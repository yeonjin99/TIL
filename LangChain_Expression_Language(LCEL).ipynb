{
  "nbformat": 4,
  "nbformat_minor": 0,
  "metadata": {
    "colab": {
      "private_outputs": true,
      "provenance": [],
      "authorship_tag": "ABX9TyOw7y2G3MdP6ZAwL4EXNoqk",
      "include_colab_link": true
    },
    "kernelspec": {
      "name": "python3",
      "display_name": "Python 3"
    },
    "language_info": {
      "name": "python"
    }
  },
  "cells": [
    {
      "cell_type": "markdown",
      "metadata": {
        "id": "view-in-github",
        "colab_type": "text"
      },
      "source": [
        "<a href=\"https://colab.research.google.com/github/yeonjin99/TIL/blob/main/LangChain_Expression_Language(LCEL).ipynb\" target=\"_parent\"><img src=\"https://colab.research.google.com/assets/colab-badge.svg\" alt=\"Open In Colab\"/></a>"
      ]
    },
    {
      "cell_type": "markdown",
      "source": [
        "# LangChain 라이브러리를 사용하여 다양한 체인을 만들어 자연어 처리 및 정보 검색 작업 수행"
      ],
      "metadata": {
        "id": "mXVuV4ITLOUr"
      }
    },
    {
      "cell_type": "markdown",
      "source": [
        "## 1.0 Install the required packages"
      ],
      "metadata": {
        "id": "MkDaYKZD4ar_"
      }
    },
    {
      "cell_type": "code",
      "source": [
        "!pip install langchain langchain-openai"
      ],
      "metadata": {
        "id": "kJQvHbTczxFq"
      },
      "execution_count": null,
      "outputs": []
    },
    {
      "cell_type": "code",
      "source": [
        "import os\n",
        "os.environ[\"OPENAI_API_KEY\"] = \"your_api_key\""
      ],
      "metadata": {
        "id": "IPfhXOuAz4vE"
      },
      "execution_count": null,
      "outputs": []
    },
    {
      "cell_type": "markdown",
      "source": [
        "### 1.0.1 LLM 호출\n",
        "- 현 예제에서는 Docker가 무엇인지, 배포에서의 유용성이 무엇인지에 대해 묻습니다."
      ],
      "metadata": {
        "id": "XxSfguX3LlKw"
      }
    },
    {
      "cell_type": "code",
      "source": [
        "from langchain_openai import ChatOpenAI\n",
        "\n",
        "llm = ChatOpenAI()\n",
        "\n",
        "llm.invoke(\"What is docker and how is it useful for deployment?\")"
      ],
      "metadata": {
        "id": "-nnLDMdr0GCq"
      },
      "execution_count": null,
      "outputs": []
    },
    {
      "cell_type": "markdown",
      "source": [
        "## 2.0 Create your first chain with LCEL\n",
        "- 사용자의 입력을 받아서 영어 문장을 프랑스어로 번역하는 체인 생성\n",
        "- 체인 호출 결과는 프롬프트에 기반해 번역된 문장을 반환"
      ],
      "metadata": {
        "id": "vmIKg21i4fV5"
      }
    },
    {
      "cell_type": "code",
      "source": [
        "from langchain_core.prompts import ChatPromptTemplate\n",
        "\n",
        "prompt = ChatPromptTemplate.from_messages([\n",
        "    (\"system\", \"You are an English-French translator that return whatever the user says in French\"),\n",
        "    (\"user\", \"{input}\")\n",
        "])\n",
        "\n",
        "chain = prompt | llm\n",
        "\n",
        "chain.invoke({\n",
        "    \"input\" : \"i enjoy going to rock concerts\"\n",
        "})"
      ],
      "metadata": {
        "id": "ajm9Ds_j0sJZ"
      },
      "execution_count": null,
      "outputs": []
    },
    {
      "cell_type": "code",
      "source": [
        "# add output parser to the chain\n",
        "\n",
        "from langchain_core.output_parsers import StrOutputParser\n",
        "\n",
        "output_parser = StrOutputParser()\n",
        "\n",
        "chain = prompt | llm | output_parser\n",
        "\n",
        "chain.invoke({\"input\": \"my friend robert has a blue cat\"})"
      ],
      "metadata": {
        "id": "6U5X-RXH1YMR"
      },
      "execution_count": null,
      "outputs": []
    },
    {
      "cell_type": "code",
      "source": [
        "llm.invoke(\"What is new in langchain 0.1.0?\")"
      ],
      "metadata": {
        "id": "jElttdMo2NOB"
      },
      "execution_count": null,
      "outputs": []
    },
    {
      "cell_type": "markdown",
      "source": [
        "## 3.0 Create a Retrieval Chain"
      ],
      "metadata": {
        "id": "IRlTeT5A4j89"
      }
    },
    {
      "cell_type": "markdown",
      "source": [
        "### 3.1 Load the source documents and build vector store"
      ],
      "metadata": {
        "id": "kvvPkbfY4nqT"
      }
    },
    {
      "cell_type": "code",
      "source": [
        "# retrieval chain\n",
        "\n",
        "!pip install beautifulsoup4\n",
        "!pip install faiss-cpu"
      ],
      "metadata": {
        "id": "S_DM-J-D2S2q"
      },
      "execution_count": null,
      "outputs": []
    },
    {
      "cell_type": "code",
      "source": [
        "from langchain_community.document_loaders import WebBaseLoader\n",
        "\n",
        "loader = WebBaseLoader(\"https://blog.langchain.dev/langchain-v0-1-0/\")\n",
        "\n",
        "docs = loader.load()"
      ],
      "metadata": {
        "id": "wEY7bGcm22NJ"
      },
      "execution_count": null,
      "outputs": []
    },
    {
      "cell_type": "code",
      "source": [
        "from langchain_openai import OpenAIEmbeddings\n",
        "\n",
        "embeddings = OpenAIEmbeddings()"
      ],
      "metadata": {
        "id": "gcGzWvhB3Iqo"
      },
      "execution_count": null,
      "outputs": []
    },
    {
      "cell_type": "code",
      "source": [
        "from langchain_community.vectorstores import FAISS\n",
        "from langchain.text_splitter  import RecursiveCharacterTextSplitter\n",
        "\n",
        "text_splitter = RecursiveCharacterTextSplitter()\n",
        "documents = text_splitter.split_documents(docs)"
      ],
      "metadata": {
        "id": "n6mmt3Su3TSh"
      },
      "execution_count": null,
      "outputs": []
    },
    {
      "cell_type": "code",
      "source": [
        "documents"
      ],
      "metadata": {
        "id": "i1LiHfV43V1B"
      },
      "execution_count": null,
      "outputs": []
    },
    {
      "cell_type": "code",
      "source": [
        "vectorstore = FAISS.from_documents(documents, embeddings)"
      ],
      "metadata": {
        "id": "1gayXZl93XjR"
      },
      "execution_count": null,
      "outputs": []
    },
    {
      "cell_type": "markdown",
      "source": [
        "### 3.2 Create a Context-Aware LLM Chain\n",
        "\n",
        "- ```create_stuff_documents_chain```을 사용해 문서 기반 질문 응답 체인 생성. 여기서는 ```LangChain 0.1.0에 대한 정보를 기반으로 질문에 답변\n",
        "- ```context``` 부분에 문서 내용을 넣어 질문에 대한 답변 생성"
      ],
      "metadata": {
        "id": "Ns92275U4yyv"
      }
    },
    {
      "cell_type": "code",
      "source": [
        "# create chain for documents\n",
        "\n",
        "from langchain.chains.combine_documents import create_stuff_documents_chain\n",
        "\n",
        "template = \"\"\"Answer the following question based only on the provided context:\n",
        "\n",
        "<context>\n",
        "{context}\n",
        "</context>\n",
        "\n",
        "Question: {input}\n",
        "\"\"\"\n",
        "\n",
        "prompt = ChatPromptTemplate.from_template(template)\n",
        "document_chain = create_stuff_documents_chain(llm, prompt)"
      ],
      "metadata": {
        "id": "bmwsL9po3dcJ"
      },
      "execution_count": null,
      "outputs": []
    },
    {
      "cell_type": "code",
      "source": [
        "from langchain_core.documents import Document\n",
        "\n",
        "document_chain.invoke({\n",
        "    \"input\": \"what is langchain 0.1.0?\",\n",
        "    \"context\": [Document(page_content=\"langchain 0.1.0 is the new version of a llm app development framework.\")]\n",
        "})"
      ],
      "metadata": {
        "id": "WQCbOxcB3-2S"
      },
      "execution_count": null,
      "outputs": []
    },
    {
      "cell_type": "markdown",
      "source": [
        "### 3.2 Create the RAG Chain"
      ],
      "metadata": {
        "id": "B0630nBT46e-"
      }
    },
    {
      "cell_type": "code",
      "source": [
        "# create retrieval chain\n",
        "\n",
        "from langchain.chains import create_retrieval_chain\n",
        "\n",
        "retriever = vectorstore.as_retriever()\n",
        "retrieval_chain = create_retrieval_chain(retriever, document_chain)\n",
        "\n",
        "response = retrieval_chain.invoke({\n",
        "    \"input\": \"what is new in langchain 0.1.0\"\n",
        "})\n",
        "\n",
        "response[\"answer\"]"
      ],
      "metadata": {
        "id": "lY696InO4NyU"
      },
      "execution_count": null,
      "outputs": []
    },
    {
      "cell_type": "markdown",
      "source": [
        "## 4.0 Create Conversational RAG Chain"
      ],
      "metadata": {
        "id": "BDUM1rKJ51xz"
      }
    },
    {
      "cell_type": "markdown",
      "source": [
        "### 4.1 Create a Conversation-Aware Retrieval Chain\n",
        "\n",
        "- 과거 대화 내용을 반영한 검색 체인 생성. 여기서는 대화 기록을 기반으로 추가적인 검색 쿼리를 생성"
      ],
      "metadata": {
        "id": "f3GGtFgw6WHC"
      }
    },
    {
      "cell_type": "code",
      "source": [
        "# conversational retrieval chain\n",
        "\n",
        "from langchain.chains import create_history_aware_retriever\n",
        "from langchain_core.prompts import MessagesPlaceholder\n",
        "\n",
        "prompt = ChatPromptTemplate.from_messages([\n",
        "    MessagesPlaceholder(variable_name=\"chat_history\"),\n",
        "    (\"user\", \"{input}\"),\n",
        "    (\"user\", \"Given the above conversation, generate a search query to look up in order to get information relevant to the conversation\")\n",
        "])\n",
        "\n",
        "retriever_chain = create_history_aware_retriever(llm, retriever, prompt)"
      ],
      "metadata": {
        "id": "m7LCiebm5ehp"
      },
      "execution_count": null,
      "outputs": []
    },
    {
      "cell_type": "code",
      "source": [
        "from langchain_core.messages import HumanMessage, AIMessage\n",
        "\n",
        "chat_history = [\n",
        "    HumanMessage(content=\"Is there anything new about Langchain 0.1.0?\"),\n",
        "    AIMessage(content=\"Yes!\")\n",
        "]\n",
        "\n",
        "retrieval_chain.invoke({\n",
        "    \"chat_history\": chat_history,\n",
        "    \"input\": \"Tell me more about it!\"\n",
        "})"
      ],
      "metadata": {
        "id": "nzoLu3ee67g6"
      },
      "execution_count": null,
      "outputs": []
    },
    {
      "cell_type": "markdown",
      "source": [
        "## 4.2 Use Retrieval Chain together with Document Chain"
      ],
      "metadata": {
        "id": "FsWAJ1ZE7dHL"
      }
    },
    {
      "cell_type": "code",
      "source": [
        "from langchain.chains import create_retrieval_chain\n",
        "\n",
        "prompt = ChatPromptTemplate.from_messages([\n",
        "    (\"system\", \"Answer the user's questions based on the below context:\\n\\n{context}\"),\n",
        "    MessagesPlaceholder(variable_name=\"chat_history\"),\n",
        "    (\"user\", \"{input}\")\n",
        "])\n",
        "\n",
        "document_chain = create_stuff_documents_chain(llm, prompt)\n",
        "\n",
        "conversational_retrieval_chain = create_retrieval_chain(retriever_chain, document_chain)"
      ],
      "metadata": {
        "id": "2q4LRgSI7OiD"
      },
      "execution_count": null,
      "outputs": []
    },
    {
      "cell_type": "code",
      "source": [
        "response = conversational_retrieval_chain.invoke({\n",
        "    'chat_history': [],\n",
        "    \"input\": \"What is langchain 0.1.0 about?\"\n",
        "})"
      ],
      "metadata": {
        "id": "tC_Hw7VD7tBS"
      },
      "execution_count": null,
      "outputs": []
    },
    {
      "cell_type": "code",
      "source": [
        "response"
      ],
      "metadata": {
        "id": "kqhLWt8_OZz8"
      },
      "execution_count": null,
      "outputs": []
    },
    {
      "cell_type": "code",
      "source": [
        "response[\"answer\"]"
      ],
      "metadata": {
        "id": "U3iHPEhA8LbQ"
      },
      "execution_count": null,
      "outputs": []
    },
    {
      "cell_type": "code",
      "source": [
        "# simulate conversation history\n",
        "\n",
        "chat_history = [\n",
        "    HumanMessage(content=\"Is there anything new about Langchain 0.1.0?\"),\n",
        "    AIMessage(content=\"Yes!\")\n",
        "]\n",
        "\n",
        "response = conversational_retrieval_chain.invoke({\n",
        "    'chat_history' : chat_history,\n",
        "    \"input\": \"Tell me more about it!\"\n",
        "})"
      ],
      "metadata": {
        "id": "zjAxChDn8SXZ"
      },
      "execution_count": null,
      "outputs": []
    },
    {
      "cell_type": "code",
      "source": [
        "response"
      ],
      "metadata": {
        "id": "ecowlTqJ80VJ"
      },
      "execution_count": null,
      "outputs": []
    },
    {
      "cell_type": "code",
      "source": [
        "response[\"answer\"]"
      ],
      "metadata": {
        "id": "TRhbe2W880wa"
      },
      "execution_count": null,
      "outputs": []
    }
  ]
}
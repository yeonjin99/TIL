{
  "nbformat": 4,
  "nbformat_minor": 0,
  "metadata": {
    "colab": {
      "private_outputs": true,
      "provenance": [],
      "gpuType": "T4",
      "authorship_tag": "ABX9TyM1oSQbjlHS9c4Fwj8hSav2",
      "include_colab_link": true
    },
    "kernelspec": {
      "name": "python3",
      "display_name": "Python 3"
    },
    "language_info": {
      "name": "python"
    },
    "accelerator": "GPU"
  },
  "cells": [
    {
      "cell_type": "markdown",
      "metadata": {
        "id": "view-in-github",
        "colab_type": "text"
      },
      "source": [
        "<a href=\"https://colab.research.google.com/github/yeonjin99/TIL/blob/main/pdf_to_text.ipynb\" target=\"_parent\"><img src=\"https://colab.research.google.com/assets/colab-badge.svg\" alt=\"Open In Colab\"/></a>"
      ]
    },
    {
      "cell_type": "markdown",
      "source": [
        "# 1. PDF-to-Text\n",
        "PDF 파일에서 언어 모델이 이해할 수 있는 플레인 텍스트 추출\n",
        "\n",
        "**PDF-to-Image**, **Image-to-Text** 로직이 포함"
      ],
      "metadata": {
        "id": "iLhYbGpJQuRG"
      }
    },
    {
      "cell_type": "markdown",
      "source": [
        "## 1.1 PDF-to-Image\n",
        "pdf2image 사용"
      ],
      "metadata": {
        "id": "-rubMg77REPB"
      }
    },
    {
      "cell_type": "markdown",
      "source": [
        "#### 패키지 설명\n",
        "- poppler-utils: PDF 파일을 다루기 위한 여러 유틸리티를 포함하는 패키지. PDF 파일에서 텍스트를 추출하거나, PDF 파일을 다른 형식으로 변환할 수 있는 도구들이 포함. ```pdfinfo```, ```pdftotext```, ```pdftohtml``` 등의 명령어를 사용할 수 있음\n",
        "\n",
        "- pdf2image: **PDF 파일을 이미지로 변환** 하는 Python 패키지. PDF 파일의 각 페이지를 이미지 형식(PNG, JPEG ...)으로 변환하는 데 사용됨"
      ],
      "metadata": {
        "id": "iXM_bGNtaA0o"
      }
    },
    {
      "cell_type": "code",
      "execution_count": null,
      "metadata": {
        "id": "IEczxP4qQVby"
      },
      "outputs": [],
      "source": [
        "!apt-get install poppler-utils"
      ]
    },
    {
      "cell_type": "code",
      "source": [
        "!pip install pdf2image"
      ],
      "metadata": {
        "id": "pjMRXvyURM5c"
      },
      "execution_count": null,
      "outputs": []
    },
    {
      "cell_type": "code",
      "source": [
        "# pdf2image 라이브러리 임포트\n",
        "from pdf2image import convert_from_path\n",
        "\n",
        "# 로컬 내 PDF 파일 경로 변수로 지정\n",
        "FILE_NAME = \"PATH_OF_PDF_FILE.pdf\"\n",
        "\n",
        "# 'convert_from_path' 함수 통해 PDF 파일 읽어와 이미지 리스트로 변환\n",
        "images = convert_from_path(FILE_NAME)"
      ],
      "metadata": {
        "id": "jZOXw5jyRWSM"
      },
      "execution_count": null,
      "outputs": []
    },
    {
      "cell_type": "code",
      "source": [
        "len(images)"
      ],
      "metadata": {
        "id": "r550xuyhRzTE"
      },
      "execution_count": null,
      "outputs": []
    },
    {
      "cell_type": "code",
      "source": [
        "images"
      ],
      "metadata": {
        "id": "ls9WJZpAR1Y7"
      },
      "execution_count": null,
      "outputs": []
    },
    {
      "cell_type": "code",
      "source": [
        "# 변환된 이미지 확인\n",
        "images[1]"
      ],
      "metadata": {
        "id": "ebshcu-WR2ez"
      },
      "execution_count": null,
      "outputs": []
    },
    {
      "cell_type": "code",
      "source": [
        "# 다음 단계를 위해 이미지 파일 로컬에 저장\n",
        "for i, image in enumerate(images):\n",
        "    image.save(f\"page_{str(i)}.jpg\", \"JPEG\")"
      ],
      "metadata": {
        "id": "0n1fFnPoR6s7"
      },
      "execution_count": null,
      "outputs": []
    },
    {
      "cell_type": "markdown",
      "source": [
        "## 1.2 Image-to-Text\n",
        "Image-to-Text는 앞서 저장한 이미지 파일에서 텍스트를 추출하는 단계입니다.\n",
        "Google OCR을 활용"
      ],
      "metadata": {
        "id": "7lSAjcmKSZYB"
      }
    },
    {
      "cell_type": "code",
      "source": [
        "!pip install opencv-contrib-python\n",
        "!pip install --upgrade google-cloud-vision\n",
        "!pip install --upgrade google-cloud-speech\n",
        "!pip install --upgrade google-cloud-language\n",
        "!pip install --upgrade google-cloud-texttospeech"
      ],
      "metadata": {
        "id": "bWEoy1MQUv6_"
      },
      "execution_count": null,
      "outputs": []
    },
    {
      "cell_type": "code",
      "source": [
        "def detect_text(path):\n",
        "    \"\"\"Detects text in the file.\"\"\"\n",
        "    from google.cloud import vision\n",
        "\n",
        "    client = vision.ImageAnnotatorClient()\n",
        "\n",
        "    with open(path, \"rb\") as image_file:\n",
        "        content = image_file.read()\n",
        "\n",
        "    image = vision.Image(content=content)\n",
        "\n",
        "    response = client.text_detection(image=image)\n",
        "    texts = response.text_annotations\n",
        "    print(\"Texts:\")\n",
        "\n",
        "    for text in texts:\n",
        "        print(f'\\n\"{text.description}\"')\n",
        "\n",
        "        vertices = [\n",
        "            f\"({vertex.x},{vertex.y})\" for vertex in text.bounding_poly.vertices\n",
        "        ]\n",
        "\n",
        "        print(\"bounds: {}\".format(\",\".join(vertices)))\n",
        "\n",
        "    if response.error.message:\n",
        "        raise Exception(\n",
        "            \"{}\\nFor more info on error messages, check: \"\n",
        "            \"https://cloud.google.com/apis/design/errors\".format(response.error.message)\n",
        "        )\n"
      ],
      "metadata": {
        "id": "rKZ-5taMSRG6"
      },
      "execution_count": null,
      "outputs": []
    },
    {
      "cell_type": "code",
      "source": [
        "import io\n",
        "from tqdm import tqdm\n",
        "from google.cloud import vision\n",
        "\n",
        "client = vision.ImageAnnotatorClient()"
      ],
      "metadata": {
        "id": "MDs0xjBMUgry"
      },
      "execution_count": null,
      "outputs": []
    },
    {
      "cell_type": "code",
      "source": [
        "detect_text(\"page_1.jpg\").text"
      ],
      "metadata": {
        "id": "T8_-yyGbUl9S"
      },
      "execution_count": null,
      "outputs": []
    }
  ]
}